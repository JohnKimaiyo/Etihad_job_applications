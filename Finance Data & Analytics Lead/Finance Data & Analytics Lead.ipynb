{
 "cells": [
  {
   "cell_type": "code",
   "execution_count": 1,
   "id": "10c2d2f7-695b-4a11-bd03-0df06b0cb4bb",
   "metadata": {},
   "outputs": [
    {
     "name": "stdout",
     "output_type": "stream",
     "text": [
      "Financial dataset created with shape: (900, 14)\n"
     ]
    },
    {
     "name": "stderr",
     "output_type": "stream",
     "text": [
      "C:\\Users\\superadmin\\AppData\\Local\\Temp\\ipykernel_25896\\2567141440.py:13: FutureWarning: 'M' is deprecated and will be removed in a future version, please use 'ME' instead.\n",
      "  dates = pd.date_range(start='2021-01-01', end='2023-12-31', freq='M')\n"
     ]
    }
   ],
   "source": [
    "import pandas as pd\n",
    "import numpy as np\n",
    "from datetime import datetime, timedelta\n",
    "import random\n",
    "\n",
    "# Set random seed for reproducibility\n",
    "np.random.seed(42)\n",
    "\n",
    "def create_airline_financial_dataset():\n",
    "    \"\"\"Create comprehensive airline financial performance dataset\"\"\"\n",
    "    \n",
    "    # Generate dates for the past 3 years\n",
    "    dates = pd.date_range(start='2021-01-01', end='2023-12-31', freq='M')\n",
    "    n_periods = len(dates)\n",
    "    \n",
    "    # Regions and aircraft types\n",
    "    regions = ['Middle East', 'Europe', 'Asia', 'Australia', 'North America']\n",
    "    aircraft_types = ['Boeing 787', 'Airbus A380', 'Boeing 777', 'Airbus A350', 'Boeing 737']\n",
    "    \n",
    "    data = []\n",
    "    \n",
    "    for date in dates:\n",
    "        for region in regions:\n",
    "            for aircraft in aircraft_types:\n",
    "                # Base metrics with some randomness\n",
    "                passengers = np.random.randint(5000, 50000)\n",
    "                revenue = passengers * np.random.uniform(300, 800)\n",
    "                operating_costs = revenue * np.random.uniform(0.6, 0.85)\n",
    "                fuel_costs = operating_costs * np.random.uniform(0.25, 0.35)\n",
    "                maintenance_costs = operating_costs * np.random.uniform(0.15, 0.25)\n",
    "                staff_costs = operating_costs * np.random.uniform(0.20, 0.30)\n",
    "                \n",
    "                # Calculate derived metrics\n",
    "                gross_profit = revenue - operating_costs\n",
    "                load_factor = np.random.uniform(0.65, 0.95)\n",
    "                yield_per_rpm = revenue / (passengers * np.random.uniform(1000, 5000))\n",
    "                \n",
    "                data.append({\n",
    "                    'Date': date,\n",
    "                    'Region': region,\n",
    "                    'Aircraft_Type': aircraft,\n",
    "                    'Passengers': passengers,\n",
    "                    'Revenue_USD': round(revenue, 2),\n",
    "                    'Operating_Costs_USD': round(operating_costs, 2),\n",
    "                    'Fuel_Costs_USD': round(fuel_costs, 2),\n",
    "                    'Maintenance_Costs_USD': round(maintenance_costs, 2),\n",
    "                    'Staff_Costs_USD': round(staff_costs, 2),\n",
    "                    'Gross_Profit_USD': round(gross_profit, 2),\n",
    "                    'Load_Factor': round(load_factor, 3),\n",
    "                    'Yield_per_RPM': round(yield_per_rpm, 4),\n",
    "                    'Available_Seat_Miles': passengers * np.random.randint(1000, 5000),\n",
    "                    'Revenue_Passenger_Miles': passengers * np.random.randint(800, 4500)\n",
    "                })\n",
    "    \n",
    "    df = pd.DataFrame(data)\n",
    "    return df\n",
    "\n",
    "# Generate the dataset\n",
    "financial_data = create_airline_financial_dataset()\n",
    "financial_data.to_csv('airline_financial_performance.csv', index=False)\n",
    "print(\"Financial dataset created with shape:\", financial_data.shape)"
   ]
  },
  {
   "cell_type": "code",
   "execution_count": null,
   "id": "b8a1a70f-6f6d-4890-a5f8-373443b56fb8",
   "metadata": {},
   "outputs": [],
   "source": []
  }
 ],
 "metadata": {
  "kernelspec": {
   "display_name": "Python 3 (ipykernel)",
   "language": "python",
   "name": "python3"
  },
  "language_info": {
   "codemirror_mode": {
    "name": "ipython",
    "version": 3
   },
   "file_extension": ".py",
   "mimetype": "text/x-python",
   "name": "python",
   "nbconvert_exporter": "python",
   "pygments_lexer": "ipython3",
   "version": "3.13.5"
  }
 },
 "nbformat": 4,
 "nbformat_minor": 5
}
